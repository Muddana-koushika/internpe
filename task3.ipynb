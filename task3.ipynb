{
  "nbformat": 4,
  "nbformat_minor": 0,
  "metadata": {
    "colab": {
      "provenance": [],
      "authorship_tag": "ABX9TyM719WBRn3xTnMu+yu1Z6Ne",
      "include_colab_link": true
    },
    "kernelspec": {
      "name": "python3",
      "display_name": "Python 3"
    },
    "language_info": {
      "name": "python"
    }
  },
  "cells": [
    {
      "cell_type": "markdown",
      "metadata": {
        "id": "view-in-github",
        "colab_type": "text"
      },
      "source": [
        "<a href=\"https://colab.research.google.com/github/Muddana-koushika/internpe/blob/computer-science/task3.ipynb\" target=\"_parent\"><img src=\"https://colab.research.google.com/assets/colab-badge.svg\" alt=\"Open In Colab\"/></a>"
      ]
    },
    {
      "cell_type": "code",
      "execution_count": 5,
      "metadata": {
        "colab": {
          "base_uri": "https://localhost:8080/"
        },
        "id": "UXhxQCGk7Ykk",
        "outputId": "d69e383e-1103-41be-b666-cd5aad98a6ba"
      },
      "outputs": [
        {
          "output_type": "stream",
          "name": "stdout",
          "text": [
            "Choose Rock, Paper, or Scissors: rock\n",
            "You chose:  rock\n",
            "Computer chose:  Paper\n",
            "Computer wins!\n"
          ]
        }
      ],
      "source": [
        "import random\n",
        "\n",
        " \n",
        "\n",
        "options = [\"Rock\", \"Paper\", \"Scissors\"]\n",
        "\n",
        " \n",
        "\n",
        "user_choice = input(\"Choose Rock, Paper, or Scissors: \")\n",
        "\n",
        "computer_choice = random.choice(options)\n",
        "\n",
        " \n",
        "\n",
        "print(\"You chose: \", user_choice)\n",
        "\n",
        "print(\"Computer chose: \", computer_choice)\n",
        "\n",
        " \n",
        "\n",
        "if user_choice == computer_choice:\n",
        "\n",
        "    print(\"It's a tie!\")\n",
        "\n",
        "elif user_choice == \"Rock\" and computer_choice == \"Scissors\":\n",
        "\n",
        "    print(\"You win!\")\n",
        "\n",
        "elif user_choice == \"Paper\" and computer_choice == \"Rock\":\n",
        "\n",
        "    print(\"You win!\")\n",
        "\n",
        "elif user_choice == \"Scissors\" and computer_choice == \"Paper\":\n",
        "\n",
        "    print(\"You win!\")\n",
        "\n",
        "else:\n",
        "\n",
        "    print(\"Computer wins!\")"
      ]
    }
  ]
}